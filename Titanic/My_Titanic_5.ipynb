{
  "cells": [
    {
      "cell_type": "markdown",
      "metadata": {},
      "source": [
        "# 타이타닉 생존률 예측\n"
      ]
    },
    {
      "cell_type": "markdown",
      "metadata": {},
      "source": [
        "## 목차\n",
        "### 1. 데이터 불러오기  \n",
        "### 2. 피처 엔지니어링  \n",
        "<li>null값 채우기</li>\n",
        "<li>레이블 인코딩</li> \n",
        "\n",
        "### 3. 모델 학습"
      ]
    },
    {
      "cell_type": "markdown",
      "metadata": {},
      "source": [
        "## 데이터 불러오기"
      ]
    },
    {
      "cell_type": "code",
      "execution_count": 44,
      "metadata": {
        "id": "__6jaag_A8CF"
      },
      "outputs": [],
      "source": [
        "import matplotlib.pyplot as plt\n",
        "import seaborn as sns \n",
        "import pandas as pd\n",
        "import missingno as msno\n",
        "\n",
        "from IPython.display import Image\n",
        "\n",
        "import warnings\n",
        "warnings.filterwarnings('ignore')"
      ]
    },
    {
      "cell_type": "code",
      "execution_count": 45,
      "metadata": {
        "id": "jwdcueInNMkD"
      },
      "outputs": [],
      "source": [
        "train = pd.read_csv('train.csv', index_col=['PassengerId'])\n",
        "test = pd.read_csv('test.csv', index_col=['PassengerId'])"
      ]
    },
    {
      "cell_type": "code",
      "execution_count": 46,
      "metadata": {
        "colab": {
          "base_uri": "https://localhost:8080/"
        },
        "id": "7jP8ZNMGfPvs",
        "outputId": "dee54191-5e25-4432-db3a-7aa9fae4b474"
      },
      "outputs": [
        {
          "name": "stdout",
          "output_type": "stream",
          "text": [
            "(891, 11)\n",
            "<class 'pandas.core.frame.DataFrame'>\n",
            "Int64Index: 891 entries, 1 to 891\n",
            "Data columns (total 11 columns):\n",
            " #   Column    Non-Null Count  Dtype  \n",
            "---  ------    --------------  -----  \n",
            " 0   Survived  891 non-null    int64  \n",
            " 1   Pclass    891 non-null    int64  \n",
            " 2   Name      891 non-null    object \n",
            " 3   Sex       891 non-null    object \n",
            " 4   Age       714 non-null    float64\n",
            " 5   SibSp     891 non-null    int64  \n",
            " 6   Parch     891 non-null    int64  \n",
            " 7   Ticket    891 non-null    object \n",
            " 8   Fare      891 non-null    float64\n",
            " 9   Cabin     204 non-null    object \n",
            " 10  Embarked  889 non-null    object \n",
            "dtypes: float64(2), int64(4), object(5)\n",
            "memory usage: 83.5+ KB\n"
          ]
        },
        {
          "data": {
            "text/plain": [
              "<AxesSubplot:>"
            ]
          },
          "execution_count": 46,
          "metadata": {},
          "output_type": "execute_result"
        },
        {
          "data": {
            "image/png": "[encoded data removed]",
            "text/plain": [
              "<Figure size 432x288 with 2 Axes>"
            ]
          },
          "metadata": {
            "needs_background": "light"
          },
          "output_type": "display_data"
        }
      ],
      "source": [
        "print(train.shape)\n",
        "train.info()\n",
        "\n",
        "msno.matrix(train, figsize=(6,4))"
      ]
    },
    {
      "cell_type": "code",
      "execution_count": 47,
      "metadata": {
        "colab": {
          "base_uri": "https://localhost:8080/"
        },
        "id": "xqZ4R_frfXDG",
        "outputId": "b3b9b99c-9410-4b0e-c412-10f27fcf8af8"
      },
      "outputs": [
        {
          "data": {
            "text/plain": [
              "Survived      0\n",
              "Pclass        0\n",
              "Name          0\n",
              "Sex           0\n",
              "Age         177\n",
              "SibSp         0\n",
              "Parch         0\n",
              "Ticket        0\n",
              "Fare          0\n",
              "Cabin       687\n",
              "Embarked      2\n",
              "dtype: int64"
            ]
          },
          "execution_count": 47,
          "metadata": {},
          "output_type": "execute_result"
        }
      ],
      "source": [
        "train.isnull().sum()"
      ]
    },
    {
      "cell_type": "code",
      "execution_count": 48,
      "metadata": {
        "colab": {
          "base_uri": "https://localhost:8080/"
        },
        "id": "TJnvSQWnfcL2",
        "outputId": "4291cfcd-d206-47d4-f92a-5f217bb4fa6c"
      },
      "outputs": [
        {
          "name": "stdout",
          "output_type": "stream",
          "text": [
            "(418, 10)\n",
            "<class 'pandas.core.frame.DataFrame'>\n",
            "Int64Index: 418 entries, 892 to 1309\n",
            "Data columns (total 10 columns):\n",
            " #   Column    Non-Null Count  Dtype  \n",
            "---  ------    --------------  -----  \n",
            " 0   Pclass    418 non-null    int64  \n",
            " 1   Name      418 non-null    object \n",
            " 2   Sex       418 non-null    object \n",
            " 3   Age       332 non-null    float64\n",
            " 4   SibSp     418 non-null    int64  \n",
            " 5   Parch     418 non-null    int64  \n",
            " 6   Ticket    418 non-null    object \n",
            " 7   Fare      417 non-null    float64\n",
            " 8   Cabin     91 non-null     object \n",
            " 9   Embarked  418 non-null    object \n",
            "dtypes: float64(2), int64(3), object(5)\n",
            "memory usage: 35.9+ KB\n"
          ]
        },
        {
          "data": {
            "text/plain": [
              "<AxesSubplot:>"
            ]
          },
          "execution_count": 48,
          "metadata": {},
          "output_type": "execute_result"
        },
        {
          "data": {
            "image/png": "[encoded data removed]",
            "text/plain": [
              "<Figure size 432x288 with 2 Axes>"
            ]
          },
          "metadata": {
            "needs_background": "light"
          },
          "output_type": "display_data"
        }
      ],
      "source": [
        "print(test.shape)\n",
        "test.info()\n",
        "msno.matrix(test, figsize=(6,4))"
      ]
    },
    {
      "cell_type": "code",
      "execution_count": 49,
      "metadata": {
        "colab": {
          "base_uri": "https://localhost:8080/"
        },
        "id": "BCSobucEfg1M",
        "outputId": "acf23b42-e22a-48bf-d5e9-e4ef74937065"
      },
      "outputs": [
        {
          "data": {
            "text/plain": [
              "Pclass        0\n",
              "Name          0\n",
              "Sex           0\n",
              "Age          86\n",
              "SibSp         0\n",
              "Parch         0\n",
              "Ticket        0\n",
              "Fare          1\n",
              "Cabin       327\n",
              "Embarked      0\n",
              "dtype: int64"
            ]
          },
          "execution_count": 49,
          "metadata": {},
          "output_type": "execute_result"
        }
      ],
      "source": [
        "test.isna().sum()"
      ]
    },
    {
      "cell_type": "markdown",
      "metadata": {},
      "source": [
        "train에는 age, cabin, embarked  \n",
        "test에는 fare, age, cabin 칼럼에 null값 존재"
      ]
    },
    {
      "cell_type": "markdown",
      "metadata": {
        "id": "URChDu0goi13"
      },
      "source": [
        "## 피처 엔지니어링"
      ]
    },
    {
      "cell_type": "markdown",
      "metadata": {},
      "source": [
        "### null값 채우기"
      ]
    },
    {
      "cell_type": "code",
      "execution_count": 50,
      "metadata": {
        "colab": {
          "base_uri": "https://localhost:8080/"
        },
        "id": "gyP5am0BeJEa",
        "outputId": "7ccc925b-89e1-4d8f-f904-8cc4397236c8"
      },
      "outputs": [
        {
          "data": {
            "text/plain": [
              "0"
            ]
          },
          "execution_count": 50,
          "metadata": {},
          "output_type": "execute_result"
        }
      ],
      "source": [
        "# test Fare는 하나만 null이므로 0으로 대체\n",
        "test['Fare'].fillna(0, inplace=True)\n",
        "test['Fare'].isna().sum()"
      ]
    },
    {
      "cell_type": "code",
      "execution_count": 51,
      "metadata": {
        "colab": {
          "base_uri": "https://localhost:8080/"
        },
        "id": "vuvr_K3lpP2H",
        "outputId": "8d247fd9-aad8-46c1-e18a-ecbeb4899ceb"
      },
      "outputs": [
        {
          "data": {
            "text/plain": [
              "S    644\n",
              "C    168\n",
              "Q     77\n",
              "Name: Embarked, dtype: int64"
            ]
          },
          "execution_count": 51,
          "metadata": {},
          "output_type": "execute_result"
        }
      ],
      "source": [
        "# Embarked는 가장 많이 나온 값으로 대체\n",
        "train['Embarked'].value_counts()"
      ]
    },
    {
      "cell_type": "code",
      "execution_count": 52,
      "metadata": {
        "id": "3seWQM1Kqvbk"
      },
      "outputs": [],
      "source": [
        "train['Embarked'].fillna('S', inplace=True)\n",
        "\n",
        "train['Embarked'] = train['Embarked'].astype('category').cat.codes\n",
        "test['Embarked'] = test['Embarked'].astype('category').cat.codes"
      ]
    },
    {
      "cell_type": "code",
      "execution_count": 53,
      "metadata": {
        "colab": {
          "base_uri": "https://localhost:8080/",
          "height": 334
        },
        "id": "TYR_oQDYNW-U",
        "outputId": "9696b958-7d24-4ec1-8b1e-fe1df55312ef"
      },
      "outputs": [
        {
          "data": {
            "image/png": "[encoded data removed]",
            "text/plain": [
              "<Figure size 432x360 with 1 Axes>"
            ]
          },
          "metadata": {
            "needs_background": "light"
          },
          "output_type": "display_data"
        }
      ],
      "source": [
        "# pclass 별, 성별에 따른 나이 확인\n",
        "plt.figure(figsize=(6,5))\n",
        "sns.boxplot(x='Pclass', y='Age',hue='Sex', data=train)\n",
        "plt.show()"
      ]
    },
    {
      "cell_type": "code",
      "execution_count": 54,
      "metadata": {
        "colab": {
          "base_uri": "https://localhost:8080/"
        },
        "id": "kGxmlDphmCqE",
        "outputId": "fd37775a-7b28-457d-9821-85efa420d9a7"
      },
      "outputs": [
        {
          "data": {
            "text/plain": [
              "Pclass  Sex   \n",
              "1       female    34.611765\n",
              "        male      41.281386\n",
              "2       female    28.722973\n",
              "        male      30.740707\n",
              "3       female    21.750000\n",
              "        male      26.507589\n",
              "Name: Age, dtype: float64"
            ]
          },
          "execution_count": 54,
          "metadata": {},
          "output_type": "execute_result"
        }
      ],
      "source": [
        "# 성별, plcass나이 평균값으로 대체\n",
        "mean_by_P = train.groupby(['Pclass','Sex'])['Age'].mean()\n",
        "mean_by_P"
      ]
    },
    {
      "cell_type": "code",
      "execution_count": 55,
      "metadata": {
        "colab": {
          "base_uri": "https://localhost:8080/"
        },
        "id": "KT2kOKsLjN7E",
        "outputId": "aaa2712d-da0c-4321-dac5-20dd3e708e84"
      },
      "outputs": [
        {
          "data": {
            "text/plain": [
              "0"
            ]
          },
          "execution_count": 55,
          "metadata": {},
          "output_type": "execute_result"
        }
      ],
      "source": [
        "train.loc[(train['Pclass']==1)&(train['Sex']=='male')&(train['Age'].isna()), 'Age']=mean_by_P[1]['male']\n",
        "train.loc[(train['Pclass']==1)&(train['Sex']=='female')&(train['Age'].isna()), 'Age']=mean_by_P[1]['female']\n",
        "\n",
        "train.loc[(train['Pclass']==2)&(train['Sex']=='male')&(train['Age'].isna()), 'Age']=mean_by_P[2]['male']\n",
        "train.loc[(train['Pclass']==2)&(train['Sex']=='female')&(train['Age'].isna()), 'Age']=mean_by_P[2]['female']\n",
        "\n",
        "train.loc[(train['Pclass']==3)&(train['Sex']=='male')&(train['Age'].isna()), 'Age']=mean_by_P[3]['male']\n",
        "train.loc[(train['Pclass']==3)&(train['Sex']=='female')&(train['Age'].isna()), 'Age']=mean_by_P[3]['female']\n",
        "\n",
        "train['Age'].isna().sum()"
      ]
    },
    {
      "cell_type": "code",
      "execution_count": 56,
      "metadata": {
        "colab": {
          "base_uri": "https://localhost:8080/"
        },
        "id": "TX-cAczfo2Bx",
        "outputId": "fcf665a1-421b-41c2-bf8d-ecacc26b9805"
      },
      "outputs": [
        {
          "data": {
            "text/plain": [
              "0"
            ]
          },
          "execution_count": 56,
          "metadata": {},
          "output_type": "execute_result"
        }
      ],
      "source": [
        "test.loc[(test['Pclass']==1)&(test['Sex']=='male')&(test['Age'].isna()), 'Age']=mean_by_P[1]['male']\n",
        "test.loc[(test['Pclass']==1)&(test['Sex']=='female')&(test['Age'].isna()), 'Age']=mean_by_P[1]['female']\n",
        "\n",
        "test.loc[(test['Pclass']==2)&(test['Sex']=='male')&(test['Age'].isna()), 'Age']=mean_by_P[2]['male']\n",
        "test.loc[(test['Pclass']==2)&(test['Sex']=='female')&(test['Age'].isna()), 'Age']=mean_by_P[2]['female']\n",
        "\n",
        "test.loc[(test['Pclass']==3)&(test['Sex']=='male')&(test['Age'].isna()), 'Age']=mean_by_P[3]['male']\n",
        "test.loc[(test['Pclass']==3)&(test['Sex']=='female')&(test['Age'].isna()), 'Age']=mean_by_P[3]['female']\n",
        "\n",
        "test['Age'].isna().sum()"
      ]
    },
    {
      "cell_type": "code",
      "execution_count": 57,
      "metadata": {
        "colab": {
          "base_uri": "https://localhost:8080/",
          "height": 578
        },
        "id": "N0_ElgvmsZep",
        "outputId": "1bbb1126-bc4a-4183-a7aa-8700e31ebe65"
      },
      "outputs": [
        {
          "data": {
            "image/png": "[encoded data removed]",
            "text/plain": [
              "<Figure size 720x720 with 2 Axes>"
            ]
          },
          "metadata": {
            "needs_background": "light"
          },
          "output_type": "display_data"
        }
      ],
      "source": [
        "# heatmap을 그려 상관도를 분석\n",
        "plt.figure(figsize=(10,10))\n",
        "sns.heatmap(train.corr(), cmap='RdBu_r', square=True, cbar=True, annot=True, fmt=\".2f\")\n",
        "plt.show()"
      ]
    },
    {
      "cell_type": "markdown",
      "metadata": {},
      "source": [
        "<img src=\"TITANIC/class.png\" width=\"50%\" >  \n",
        "\n",
        "등급 별, 요금에 따른 자리가 5개씩 나뉩니다\n",
        "\n",
        "<a href='https://www.statisticalconsultants.co.nz/blog/titanic-fare-data.html'>\n",
        "출처: Statistical Consultants Ltd</a>"
      ]
    },
    {
      "cell_type": "code",
      "execution_count": 58,
      "metadata": {
        "colab": {
          "base_uri": "https://localhost:8080/"
        },
        "id": "HT95mGfXuFpf",
        "outputId": "eedbcac5-6a79-4f86-ef4a-a907d763bfdb"
      },
      "outputs": [
        {
          "data": {
            "text/plain": [
              "[(-0.001, 7.854], (39.688, 512.329], (7.854, 10.5], (10.5, 21.679], (21.679, 39.688]]\n",
              "Categories (5, interval[float64]): [(-0.001, 7.854] < (7.854, 10.5] < (10.5, 21.679] < (21.679, 39.688] < (39.688, 512.329]]"
            ]
          },
          "execution_count": 58,
          "metadata": {},
          "output_type": "execute_result"
        }
      ],
      "source": [
        "# Pclass 별 fare에 따라 자리가 5개로 나뉨\n",
        "df=pd.qcut(train['Fare'], 5)\n",
        "df.unique()"
      ]
    },
    {
      "cell_type": "code",
      "execution_count": 59,
      "metadata": {
        "id": "IV8Pyn5D0bln"
      },
      "outputs": [
        {
          "data": {
            "text/plain": [
              "<AxesSubplot:xlabel='fare_by_class', ylabel='Density'>"
            ]
          },
          "execution_count": 59,
          "metadata": {},
          "output_type": "execute_result"
        },
        {
          "data": {
            "image/png": "[encoded data removed]",
            "text/plain": [
              "<Figure size 432x288 with 1 Axes>"
            ]
          },
          "metadata": {
            "needs_background": "light"
          },
          "output_type": "display_data"
        }
      ],
      "source": [
        "train['fare_by_class']=pd.qcut(train['Fare'], 5)\n",
        "test['fare_by_class']=pd.qcut(test['Fare'], 5)\n",
        "\n",
        "train['fare_by_class']=train['fare_by_class'].astype('category').cat.codes\n",
        "test['fare_by_class']=test['fare_by_class'].astype('category').cat.codes\n",
        "\n",
        "sns.distplot(train['fare_by_class'])"
      ]
    },
    {
      "cell_type": "code",
      "execution_count": 60,
      "metadata": {
        "colab": {
          "base_uri": "https://localhost:8080/",
          "height": 297
        },
        "id": "uprThBuR1Y-c",
        "outputId": "1ff5323d-fec8-4930-a073-9648b7d1efc4"
      },
      "outputs": [
        {
          "data": {
            "text/plain": [
              "<AxesSubplot:xlabel='Cabin', ylabel='Survived'>"
            ]
          },
          "execution_count": 60,
          "metadata": {},
          "output_type": "execute_result"
        },
        {
          "data": {
            "image/png": "[encoded data removed]",
            "text/plain": [
              "<Figure size 432x288 with 1 Axes>"
            ]
          },
          "metadata": {
            "needs_background": "light"
          },
          "output_type": "display_data"
        }
      ],
      "source": [
        "train['Cabin']=train['Cabin'].str[0]\n",
        "test['Cabin']=test['Cabin'].str[0]\n",
        "\n",
        "# cabin에 따른 생존\n",
        "sns.barplot(x=train['Cabin'], y=train['Survived'])"
      ]
    },
    {
      "cell_type": "code",
      "execution_count": 61,
      "metadata": {
        "colab": {
          "base_uri": "https://localhost:8080/"
        },
        "id": "2EjrEEBXXaoS",
        "outputId": "b92ef06b-3a93-4b02-8115-98b6799a7fe2"
      },
      "outputs": [
        {
          "data": {
            "text/plain": [
              "Pclass  Cabin\n",
              "1       C        59\n",
              "        B        47\n",
              "        D        29\n",
              "        E        25\n",
              "        A        15\n",
              "        T         1\n",
              "2       F         8\n",
              "        D         4\n",
              "        E         4\n",
              "3       F         5\n",
              "        G         4\n",
              "        E         3\n",
              "Name: Cabin, dtype: int64"
            ]
          },
          "execution_count": 61,
          "metadata": {},
          "output_type": "execute_result"
        }
      ],
      "source": [
        "train.groupby('Pclass')['Cabin'].value_counts()"
      ]
    },
    {
      "cell_type": "code",
      "execution_count": 62,
      "metadata": {
        "colab": {
          "base_uri": "https://localhost:8080/"
        },
        "id": "so9fQ24eYFwf",
        "outputId": "a014aaaa-7a24-4550-fd21-8955c7690786"
      },
      "outputs": [
        {
          "data": {
            "text/plain": [
              "0"
            ]
          },
          "execution_count": 62,
          "metadata": {},
          "output_type": "execute_result"
        }
      ],
      "source": [
        "# 등급별 가장 많이 나온 cabin 값으로 채웁니다\n",
        "train.loc[(train['Pclass']==1)&(train['Cabin'].isnull()), 'Cabin']='C'\n",
        "train.loc[(train['Pclass']==2)&(train['Cabin'].isnull()), 'Cabin']='F'\n",
        "train.loc[(train['Pclass']==3)&(train['Cabin'].isnull()), 'Cabin']='F'\n",
        "\n",
        "train['Cabin'].isna().sum()"
      ]
    },
    {
      "cell_type": "code",
      "execution_count": 63,
      "metadata": {
        "colab": {
          "base_uri": "https://localhost:8080/"
        },
        "id": "vJr9ZA7pcW2Q",
        "outputId": "8be86fa3-3077-4047-fada-c6f8e2076fdf"
      },
      "outputs": [
        {
          "data": {
            "text/plain": [
              "0"
            ]
          },
          "execution_count": 63,
          "metadata": {},
          "output_type": "execute_result"
        }
      ],
      "source": [
        "test.loc[(test['Pclass']==1)&(test['Cabin'].isnull()), 'Cabin']='C'\n",
        "test.loc[(test['Pclass']==2)&(test['Cabin'].isnull()), 'Cabin']='F'\n",
        "test.loc[(test['Pclass']==3)&(test['Cabin'].isnull()), 'Cabin']='F'\n",
        "\n",
        "test['Cabin'].isna().sum()"
      ]
    },
    {
      "cell_type": "code",
      "execution_count": 64,
      "metadata": {
        "colab": {
          "base_uri": "https://localhost:8080/"
        },
        "id": "6-yc5wS3d5kQ",
        "outputId": "0efa1b8b-a1e2-40fe-b99b-356bf2db097c"
      },
      "outputs": [
        {
          "name": "stdout",
          "output_type": "stream",
          "text": [
            "Pclass           0\n",
            "Name             0\n",
            "Sex              0\n",
            "Age              0\n",
            "SibSp            0\n",
            "Parch            0\n",
            "Ticket           0\n",
            "Fare             0\n",
            "Cabin            0\n",
            "Embarked         0\n",
            "fare_by_class    0\n",
            "dtype: int64\n"
          ]
        }
      ],
      "source": [
        "print(test.isna().sum())"
      ]
    },
    {
      "cell_type": "code",
      "execution_count": 65,
      "metadata": {
        "id": "dhXYKfdFf06m"
      },
      "outputs": [],
      "source": [
        "# 호칭을 Title 칼럼에 추가\n",
        "\n",
        "def change_name(name):\n",
        "    return name.split(',')[1].split('.')[0].strip()\n",
        "\n",
        "train['Title']=train['Name'].apply(change_name)\n",
        "test['Title']=test['Name'].apply(change_name)"
      ]
    },
    {
      "cell_type": "code",
      "execution_count": 66,
      "metadata": {
        "colab": {
          "base_uri": "https://localhost:8080/"
        },
        "id": "gEQwHaJPgBAr",
        "outputId": "218a5ba7-e05e-4445-f6d9-574076e6f1a4"
      },
      "outputs": [
        {
          "data": {
            "text/plain": [
              "array(['Mr', 'Mrs', 'Miss', 'Master', 'Don', 'Rev', 'Dr', 'Mme', 'Ms',\n",
              "       'Major', 'Lady', 'Sir', 'Mlle', 'Col', 'Capt', 'the Countess',\n",
              "       'Jonkheer'], dtype=object)"
            ]
          },
          "execution_count": 66,
          "metadata": {},
          "output_type": "execute_result"
        }
      ],
      "source": [
        "train['Title'].unique()"
      ]
    },
    {
      "cell_type": "code",
      "execution_count": 67,
      "metadata": {
        "colab": {
          "base_uri": "https://localhost:8080/",
          "height": 601
        },
        "id": "dxapJj3egW5Z",
        "outputId": "7efcf966-737a-4504-fa46-a77df9a228fc"
      },
      "outputs": [
        {
          "name": "stdout",
          "output_type": "stream",
          "text": [
            "Mr              517\n",
            "Miss            182\n",
            "Mrs             125\n",
            "Master           40\n",
            "Dr                7\n",
            "Rev               6\n",
            "Major             2\n",
            "Col               2\n",
            "Mlle              2\n",
            "the Countess      1\n",
            "Capt              1\n",
            "Jonkheer          1\n",
            "Sir               1\n",
            "Mme               1\n",
            "Ms                1\n",
            "Lady              1\n",
            "Don               1\n",
            "Name: Title, dtype: int64\n"
          ]
        },
        {
          "data": {
            "image/png": "[encoded data removed]",
            "text/plain": [
              "<Figure size 432x288 with 1 Axes>"
            ]
          },
          "metadata": {
            "needs_background": "light"
          },
          "output_type": "display_data"
        }
      ],
      "source": [
        "print(train['Title'].value_counts())\n",
        "sns.countplot(train.Title)\n",
        "plt.show()"
      ]
    },
    {
      "cell_type": "code",
      "execution_count": 68,
      "metadata": {
        "id": "hnQ5-hshg1Te"
      },
      "outputs": [],
      "source": [
        "# 'Mr', 'Master', 'Mrs', 'Miss'이외는 other로 저장\n",
        "def change_title(title):\n",
        "    if title in ['Mr', 'Master', 'Mrs', 'Miss']:\n",
        "        return title\n",
        "    else:\n",
        "        return 'other'\n",
        "\n",
        "train['Title']=train['Title'].apply(change_title)\n",
        "test['Title']=test['Title'].apply(change_title)"
      ]
    },
    {
      "cell_type": "code",
      "execution_count": 69,
      "metadata": {
        "colab": {
          "base_uri": "https://localhost:8080/"
        },
        "id": "pvc0cTTSm6vH",
        "outputId": "17df1c14-7617-4545-9298-4286d6314037"
      },
      "outputs": [
        {
          "data": {
            "text/plain": [
              "array(['Mr', 'Mrs', 'Miss', 'Master', 'other'], dtype=object)"
            ]
          },
          "execution_count": 69,
          "metadata": {},
          "output_type": "execute_result"
        }
      ],
      "source": [
        "train.Title.unique()"
      ]
    },
    {
      "cell_type": "code",
      "execution_count": 70,
      "metadata": {
        "colab": {
          "base_uri": "https://localhost:8080/",
          "height": 297
        },
        "id": "y0TxyMkwrMgy",
        "outputId": "35175b00-0624-40e1-90d8-f0e0fbf4c62a"
      },
      "outputs": [
        {
          "data": {
            "text/plain": [
              "<AxesSubplot:xlabel='Age', ylabel='Count'>"
            ]
          },
          "execution_count": 70,
          "metadata": {},
          "output_type": "execute_result"
        },
        {
          "data": {
            "image/png": "[encoded data removed]",
            "text/plain": [
              "<Figure size 432x288 with 1 Axes>"
            ]
          },
          "metadata": {
            "needs_background": "light"
          },
          "output_type": "display_data"
        }
      ],
      "source": [
        "# 나이를 범주화 하기 위해 bins를 다양하게 그려 확인\n",
        "sns.histplot(train['Age'], bins=7, kde=True)"
      ]
    },
    {
      "cell_type": "code",
      "execution_count": 71,
      "metadata": {
        "id": "tYWZmczlneJw"
      },
      "outputs": [
        {
          "data": {
            "text/plain": [
              "<AxesSubplot:xlabel='age_cat'>"
            ]
          },
          "execution_count": 71,
          "metadata": {},
          "output_type": "execute_result"
        },
        {
          "data": {
            "image/png": "[encoded data removed]",
            "text/plain": [
              "<Figure size 432x288 with 1 Axes>"
            ]
          },
          "metadata": {
            "needs_background": "light"
          },
          "output_type": "display_data"
        }
      ],
      "source": [
        "# bins=7일 때 정규분포를 이뤄서 7개씩 범주화\n",
        "train['age_cat']=pd.cut(train['Age'], 7)\n",
        "test['age_cat']=pd.cut(test['Age'], 7)\n",
        "\n",
        "train['age_cat'] = train['age_cat'].astype('category').cat.codes\n",
        "test['age_cat'] = test['age_cat'].astype('category').cat.codes\n",
        "\n",
        "sns.distplot(train['age_cat'], kde=False)"
      ]
    },
    {
      "cell_type": "code",
      "execution_count": 72,
      "metadata": {
        "colab": {
          "base_uri": "https://localhost:8080/"
        },
        "id": "xgRHz3bBtRjO",
        "outputId": "47ac1cda-cddd-46f2-8565-ab121bd1d50d"
      },
      "outputs": [
        {
          "data": {
            "text/plain": [
              "PassengerId\n",
              "1      2\n",
              "2      2\n",
              "3      1\n",
              "4      2\n",
              "5      1\n",
              "      ..\n",
              "887    1\n",
              "888    1\n",
              "889    4\n",
              "890    1\n",
              "891    1\n",
              "Name: Family, Length: 891, dtype: int64"
            ]
          },
          "execution_count": 72,
          "metadata": {},
          "output_type": "execute_result"
        }
      ],
      "source": [
        "train['Family']=train['SibSp']+train['Parch']+1\n",
        "test['Family']=test['SibSp']+test['Parch']+1\n",
        "train['Family']"
      ]
    },
    {
      "cell_type": "code",
      "execution_count": 73,
      "metadata": {
        "colab": {
          "base_uri": "https://localhost:8080/",
          "height": 175
        },
        "id": "pjMc2bN9vAE1",
        "outputId": "88cadb9a-e3da-471d-aa6b-e77283042b2b"
      },
      "outputs": [
        {
          "data": {
            "text/html": [
              "<div>\n",
              "<style scoped>\n",
              "    .dataframe tbody tr th:only-of-type {\n",
              "        vertical-align: middle;\n",
              "    }\n",
              "\n",
              "    .dataframe tbody tr th {\n",
              "        vertical-align: top;\n",
              "    }\n",
              "\n",
              "    .dataframe thead th {\n",
              "        text-align: right;\n",
              "    }\n",
              "</style>\n",
              "<table border=\"1\" class=\"dataframe\">\n",
              "  <thead>\n",
              "    <tr style=\"text-align: right;\">\n",
              "      <th></th>\n",
              "      <th>Pclass</th>\n",
              "      <th>Cabin</th>\n",
              "      <th>Embarked</th>\n",
              "      <th>fare_by_class</th>\n",
              "      <th>Title</th>\n",
              "      <th>age_cat</th>\n",
              "      <th>Family</th>\n",
              "      <th>Sex</th>\n",
              "    </tr>\n",
              "    <tr>\n",
              "      <th>PassengerId</th>\n",
              "      <th></th>\n",
              "      <th></th>\n",
              "      <th></th>\n",
              "      <th></th>\n",
              "      <th></th>\n",
              "      <th></th>\n",
              "      <th></th>\n",
              "      <th></th>\n",
              "    </tr>\n",
              "  </thead>\n",
              "  <tbody>\n",
              "    <tr>\n",
              "      <th>1</th>\n",
              "      <td>3</td>\n",
              "      <td>F</td>\n",
              "      <td>2</td>\n",
              "      <td>0</td>\n",
              "      <td>Mr</td>\n",
              "      <td>1</td>\n",
              "      <td>2</td>\n",
              "      <td>male</td>\n",
              "    </tr>\n",
              "    <tr>\n",
              "      <th>2</th>\n",
              "      <td>1</td>\n",
              "      <td>C</td>\n",
              "      <td>0</td>\n",
              "      <td>4</td>\n",
              "      <td>Mrs</td>\n",
              "      <td>3</td>\n",
              "      <td>2</td>\n",
              "      <td>female</td>\n",
              "    </tr>\n",
              "    <tr>\n",
              "      <th>3</th>\n",
              "      <td>3</td>\n",
              "      <td>F</td>\n",
              "      <td>2</td>\n",
              "      <td>1</td>\n",
              "      <td>Miss</td>\n",
              "      <td>2</td>\n",
              "      <td>1</td>\n",
              "      <td>female</td>\n",
              "    </tr>\n",
              "  </tbody>\n",
              "</table>\n",
              "</div>"
            ],
            "text/plain": [
              "             Pclass Cabin  Embarked  fare_by_class Title  age_cat  Family  \\\n",
              "PassengerId                                                                 \n",
              "1                 3     F         2              0    Mr        1       2   \n",
              "2                 1     C         0              4   Mrs        3       2   \n",
              "3                 3     F         2              1  Miss        2       1   \n",
              "\n",
              "                Sex  \n",
              "PassengerId          \n",
              "1              male  \n",
              "2            female  \n",
              "3            female  "
            ]
          },
          "execution_count": 73,
          "metadata": {},
          "output_type": "execute_result"
        }
      ],
      "source": [
        "train[['Pclass','Cabin','Embarked','fare_by_class','Title','age_cat','Family','Sex']].head(3)"
      ]
    },
    {
      "cell_type": "markdown",
      "metadata": {},
      "source": [
        "## 데이터 레이블 인코딩"
      ]
    },
    {
      "cell_type": "code",
      "execution_count": 74,
      "metadata": {
        "id": "FgHHb7VMxdad"
      },
      "outputs": [],
      "source": [
        "train['Cabin'] = train['Cabin'].astype('category').cat.codes\n",
        "test['Cabin'] = test['Cabin'].astype('category').cat.codes\n",
        "\n",
        "train['Title'] = train['Title'].astype('category').cat.codes\n",
        "test['Title'] = test['Title'].astype('category').cat.codes\n",
        "\n",
        "train['Sex'] = train['Sex'].astype('category').cat.codes\n",
        "test['Sex'] = test['Sex'].astype('category').cat.codes"
      ]
    },
    {
      "cell_type": "code",
      "execution_count": 75,
      "metadata": {},
      "outputs": [
        {
          "name": "stdout",
          "output_type": "stream",
          "text": [
            "<각 데이터 별 unique값>\n",
            "train: \n",
            "[ 2  1  5  3  7  6  4  8 11]\n",
            "test: \n",
            "[ 1  2  3  5  4  6  8  7 11]\n"
          ]
        },
        {
          "data": {
            "text/plain": [
              "Family\n",
              "1    163\n",
              "2     89\n",
              "3     59\n",
              "4     21\n",
              "5      3\n",
              "6      3\n",
              "7      4\n",
              "Name: Survived, dtype: int64"
            ]
          },
          "execution_count": 75,
          "metadata": {},
          "output_type": "execute_result"
        }
      ],
      "source": [
        "survived=train[train['Survived']==1]\n",
        "\n",
        "print('<각 데이터 별 unique값>','train: ',train['Family'].unique(),'test: ',test['Family'].unique(),sep='\\n')\n",
        "\n",
        "survived.groupby('Family')['Survived'].count()"
      ]
    },
    {
      "cell_type": "code",
      "execution_count": 76,
      "metadata": {},
      "outputs": [],
      "source": [
        "# family 5,6,7은 생존자 수가 비슷해서 1로 통일, 나머지 비슷한 값은 0으로 통일\n",
        "resize={\n",
        "    1: 8,\n",
        "    2: 6,\n",
        "    3: 4,\n",
        "    4: 2,\n",
        "    5: 1,\n",
        "    6: 1,\n",
        "    7: 1,\n",
        "    8: 0,\n",
        "    11: 0\n",
        "}\n",
        "\n",
        "train['Family']=train['Family'].apply(lambda x: resize[x])\n",
        "test['Family']=test['Family'].apply(lambda x: resize[x])"
      ]
    },
    {
      "cell_type": "code",
      "execution_count": 77,
      "metadata": {},
      "outputs": [
        {
          "name": "stdout",
          "output_type": "stream",
          "text": [
            "<각 데이터 별 unique값>\n",
            "train: \n",
            "[5 2 4 6 3 0 1 7]\n",
            "test: \n",
            "[5 2 1 4 0 3 6]\n"
          ]
        },
        {
          "data": {
            "text/plain": [
              "Cabin\n",
              "0      7\n",
              "1     35\n",
              "2     54\n",
              "3     25\n",
              "4     24\n",
              "5    195\n",
              "6      2\n",
              "Name: Survived, dtype: int64"
            ]
          },
          "execution_count": 77,
          "metadata": {},
          "output_type": "execute_result"
        }
      ],
      "source": [
        "print('<각 데이터 별 unique값>','train: ',train['Cabin'].unique(),'test: ',test['Cabin'].unique(),sep='\\n')\n",
        "\n",
        "survived.groupby('Cabin')['Survived'].count()"
      ]
    },
    {
      "cell_type": "code",
      "execution_count": 78,
      "metadata": {},
      "outputs": [],
      "source": [
        "resize={\n",
        "     0: 2,\n",
        "     1: 4,\n",
        "     2: 5,\n",
        "     3: 3,\n",
        "     4: 3,\n",
        "     5: 6,\n",
        "     6: 0,\n",
        "     7: 0\n",
        "}\n",
        "\n",
        "train['Cabin']=train['Cabin'].apply(lambda x: resize[x])\n",
        "test['Cabin']=test['Cabin'].apply(lambda x: resize[x])"
      ]
    },
    {
      "cell_type": "markdown",
      "metadata": {
        "id": "W8_CQEFo0_F9"
      },
      "source": [
        "## 모델학습"
      ]
    },
    {
      "cell_type": "code",
      "execution_count": 79,
      "metadata": {
        "id": "baXiCd4V0vz2"
      },
      "outputs": [],
      "source": [
        "feature=['Pclass','Cabin','Embarked','fare_by_class','Title','age_cat','Family','Sex']"
      ]
    },
    {
      "cell_type": "code",
      "execution_count": 80,
      "metadata": {
        "colab": {
          "base_uri": "https://localhost:8080/",
          "height": 175
        },
        "id": "y5J366AL0yMb",
        "outputId": "9c5652fe-1074-498b-dfbb-1febe10b6cd5"
      },
      "outputs": [
        {
          "data": {
            "text/html": [
              "<div>\n",
              "<style scoped>\n",
              "    .dataframe tbody tr th:only-of-type {\n",
              "        vertical-align: middle;\n",
              "    }\n",
              "\n",
              "    .dataframe tbody tr th {\n",
              "        vertical-align: top;\n",
              "    }\n",
              "\n",
              "    .dataframe thead th {\n",
              "        text-align: right;\n",
              "    }\n",
              "</style>\n",
              "<table border=\"1\" class=\"dataframe\">\n",
              "  <thead>\n",
              "    <tr style=\"text-align: right;\">\n",
              "      <th></th>\n",
              "      <th>Pclass</th>\n",
              "      <th>Cabin</th>\n",
              "      <th>Embarked</th>\n",
              "      <th>fare_by_class</th>\n",
              "      <th>Title</th>\n",
              "      <th>age_cat</th>\n",
              "      <th>Family</th>\n",
              "      <th>Sex</th>\n",
              "    </tr>\n",
              "    <tr>\n",
              "      <th>PassengerId</th>\n",
              "      <th></th>\n",
              "      <th></th>\n",
              "      <th></th>\n",
              "      <th></th>\n",
              "      <th></th>\n",
              "      <th></th>\n",
              "      <th></th>\n",
              "      <th></th>\n",
              "    </tr>\n",
              "  </thead>\n",
              "  <tbody>\n",
              "    <tr>\n",
              "      <th>1</th>\n",
              "      <td>3</td>\n",
              "      <td>6</td>\n",
              "      <td>2</td>\n",
              "      <td>0</td>\n",
              "      <td>2</td>\n",
              "      <td>1</td>\n",
              "      <td>6</td>\n",
              "      <td>1</td>\n",
              "    </tr>\n",
              "    <tr>\n",
              "      <th>2</th>\n",
              "      <td>1</td>\n",
              "      <td>5</td>\n",
              "      <td>0</td>\n",
              "      <td>4</td>\n",
              "      <td>3</td>\n",
              "      <td>3</td>\n",
              "      <td>6</td>\n",
              "      <td>0</td>\n",
              "    </tr>\n",
              "    <tr>\n",
              "      <th>3</th>\n",
              "      <td>3</td>\n",
              "      <td>6</td>\n",
              "      <td>2</td>\n",
              "      <td>1</td>\n",
              "      <td>1</td>\n",
              "      <td>2</td>\n",
              "      <td>8</td>\n",
              "      <td>0</td>\n",
              "    </tr>\n",
              "  </tbody>\n",
              "</table>\n",
              "</div>"
            ],
            "text/plain": [
              "             Pclass  Cabin  Embarked  fare_by_class  Title  age_cat  Family  \\\n",
              "PassengerId                                                                   \n",
              "1                 3      6         2              0      2        1       6   \n",
              "2                 1      5         0              4      3        3       6   \n",
              "3                 3      6         2              1      1        2       8   \n",
              "\n",
              "             Sex  \n",
              "PassengerId       \n",
              "1              1  \n",
              "2              0  \n",
              "3              0  "
            ]
          },
          "execution_count": 80,
          "metadata": {},
          "output_type": "execute_result"
        }
      ],
      "source": [
        "train[feature].head(3)"
      ]
    },
    {
      "cell_type": "code",
      "execution_count": 81,
      "metadata": {},
      "outputs": [
        {
          "data": {
            "text/plain": [
              "0.8749930802573549"
            ]
          },
          "execution_count": 81,
          "metadata": {},
          "output_type": "execute_result"
        }
      ],
      "source": [
        "from sklearn.model_selection import KFold, cross_val_score\n",
        "from sklearn.ensemble import RandomForestClassifier\n",
        "\n",
        "data = train[feature]\n",
        "target = train['Survived']\n",
        "\n",
        "k_fold = KFold(n_splits=3, shuffle=True, random_state=0)\n",
        "\n",
        "clf = RandomForestClassifier(n_estimators=50, max_depth=4, random_state=0)\n",
        "cross_val_score(clf, data, target, cv=k_fold, scoring='roc_auc').mean()"
      ]
    },
    {
      "cell_type": "code",
      "execution_count": 82,
      "metadata": {},
      "outputs": [
        {
          "data": {
            "text/plain": [
              "array([0, 1, 0, 0, 1, 0, 1, 0, 1, 0, 0, 0, 1, 0, 1, 1, 0, 0, 0, 1, 0, 1,\n",
              "       1, 0, 1, 0, 1, 0, 0, 0, 0, 0, 1, 1, 0, 0, 1, 1, 0, 0, 0, 0, 0, 1,\n",
              "       1, 0, 0, 0, 1, 1, 0, 0, 1, 1, 0, 0, 0, 0, 0, 1, 0, 0, 0, 1, 1, 1,\n",
              "       1, 0, 0, 1, 1, 0, 1, 0, 1, 0, 0, 1, 0, 1, 1, 0, 0, 0, 0, 0, 1, 1,\n",
              "       1, 1, 1, 0, 1, 0, 0, 0, 1, 0, 1, 0, 1, 0, 0, 0, 1, 0, 0, 0, 0, 0,\n",
              "       0, 1, 1, 1, 1, 0, 0, 1, 0, 1, 1, 0, 1, 0, 0, 1, 0, 1, 0, 0, 0, 0,\n",
              "       0, 0, 0, 0, 0, 0, 1, 0, 0, 1, 0, 0, 0, 0, 0, 0, 0, 0, 1, 0, 0, 1,\n",
              "       0, 0, 1, 1, 0, 1, 1, 1, 1, 0, 0, 1, 0, 0, 1, 1, 0, 0, 0, 0, 0, 1,\n",
              "       1, 0, 1, 1, 0, 0, 1, 0, 1, 0, 1, 0, 0, 0, 0, 0, 0, 0, 1, 0, 1, 1,\n",
              "       0, 0, 1, 1, 0, 1, 0, 0, 1, 0, 1, 0, 0, 0, 0, 1, 0, 0, 1, 0, 1, 0,\n",
              "       1, 0, 1, 0, 1, 1, 0, 1, 0, 0, 0, 1, 0, 0, 0, 0, 0, 0, 1, 1, 1, 1,\n",
              "       0, 0, 0, 0, 1, 0, 1, 1, 1, 0, 0, 0, 0, 0, 0, 0, 1, 0, 0, 0, 1, 1,\n",
              "       0, 0, 0, 0, 1, 0, 0, 0, 1, 1, 0, 1, 0, 0, 0, 0, 1, 1, 1, 1, 1, 0,\n",
              "       0, 0, 0, 0, 0, 1, 0, 0, 0, 0, 1, 0, 0, 0, 0, 0, 0, 0, 1, 1, 0, 1,\n",
              "       0, 1, 0, 0, 0, 1, 1, 1, 0, 0, 0, 0, 0, 0, 0, 0, 1, 0, 1, 0, 0, 0,\n",
              "       1, 0, 0, 1, 0, 0, 0, 0, 0, 0, 0, 0, 0, 1, 0, 1, 0, 1, 0, 1, 1, 0,\n",
              "       0, 0, 1, 0, 1, 0, 0, 1, 0, 1, 1, 0, 1, 0, 0, 1, 1, 0, 0, 1, 0, 0,\n",
              "       1, 1, 0, 0, 0, 0, 0, 0, 1, 1, 0, 1, 0, 0, 0, 0, 0, 1, 0, 0, 0, 1,\n",
              "       0, 1, 0, 0, 1, 0, 1, 0, 0, 0, 0, 0, 1, 1, 1, 1, 1, 0, 1, 0, 0, 1])"
            ]
          },
          "execution_count": 82,
          "metadata": {},
          "output_type": "execute_result"
        }
      ],
      "source": [
        "clf.fit(data,target)\n",
        "x_test = test[feature]\n",
        "preds=clf.predict(x_test)\n",
        "preds"
      ]
    },
    {
      "cell_type": "code",
      "execution_count": 83,
      "metadata": {
        "id": "ss6Vyogs1X-D"
      },
      "outputs": [],
      "source": [
        "df=pd.read_csv('gender_submission.csv',index_col='PassengerId')\n",
        "df['Survived']=preds"
      ]
    },
    {
      "cell_type": "code",
      "execution_count": 84,
      "metadata": {
        "id": "CfhGeifE1kep"
      },
      "outputs": [],
      "source": [
        "# csv파일로 저장\n",
        "df.to_csv('t.csv')"
      ]
    }
  ],
  "metadata": {
    "accelerator": "GPU",
    "colab": {
      "collapsed_sections": [],
      "name": "My_Titanic.ipynb",
      "provenance": []
    },
    "interpreter": {
      "hash": "aee8b7b246df8f9039afb4144a1f6fd8d2ca17a180786b69acc140d282b71a49"
    },
    "kernelspec": {
      "display_name": "Python 3.8.6 64-bit",
      "name": "python3"
    },
    "language_info": {
      "codemirror_mode": {
        "name": "ipython",
        "version": 3
      },
      "file_extension": ".py",
      "mimetype": "text/x-python",
      "name": "python",
      "nbconvert_exporter": "python",
      "pygments_lexer": "ipython3",
      "version": "3.8.6"
    }
  },
  "nbformat": 4,
  "nbformat_minor": 0
}